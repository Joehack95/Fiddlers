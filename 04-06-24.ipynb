{
 "cells": [
  {
   "cell_type": "code",
   "execution_count": 30,
   "id": "6f4d68b9",
   "metadata": {},
   "outputs": [],
   "source": [
    "import numpy as np\n",
    "import random\n",
    "import pandas as pd"
   ]
  },
  {
   "cell_type": "markdown",
   "id": "f99edec6",
   "metadata": {},
   "source": [
    "I’m completing a paint-by-number painting, although this one is a little different from any that I’ve seen before. It’s an infinitely long strip of canvas that is 1 cm wide. It’s broken up into adjacent 1 cm-by-1 cm squares, each of which is numbered zero or one, each with a 50 percent chance. The squares are all numbered independently of each other. Every square with a zero I color red, while every square with a one I color blue.\n",
    "\n",
    "Once I’m done painting, there will be many “clusters” of contiguous red and blue squares. For example, consider the finite strip of canvas below. It contains 10 total squares and seven clusters, which means the average size of a cluster here is approximately 1.43 squares."
   ]
  },
  {
   "cell_type": "code",
   "execution_count": 54,
   "id": "3295596c",
   "metadata": {},
   "outputs": [],
   "source": [
    "# My intuition is just to simulate this.\n",
    "def color_square():\n",
    "    return np.random.randint(0,2)\n",
    "\n",
    "def count_consecutive_colors(df):\n",
    "    # Create a group identifier that increments every time the color changes\n",
    "    df['group'] = (df['colors'] != df['colors'].shift()).cumsum()\n",
    "    \n",
    "    # Group by the original color and the new group identifier, then calculate the mean\n",
    "    result = df.groupby(['colors', 'group']).count()\n",
    "    \n",
    "    return result\n",
    "\n",
    "def run_sim(n_sim=1000):\n",
    "    results = list()\n",
    "    for i in range(n_sim):\n",
    "        results.append(color_square())\n",
    "    colors = [\"blue\" if x == 1 else 'red' for x in results]\n",
    "    results = pd.DataFrame({'numbers': results, 'colors': colors})\n",
    "    \n",
    "    return results\n"
   ]
  },
  {
   "cell_type": "code",
   "execution_count": 56,
   "id": "47dda4c1",
   "metadata": {},
   "outputs": [
    {
     "data": {
      "text/plain": [
       "numbers    1.993303\n",
       "dtype: float64"
      ]
     },
     "execution_count": 56,
     "metadata": {},
     "output_type": "execute_result"
    }
   ],
   "source": [
    "results = run_sim(100000)\n",
    "counts = count_consecutive_colors(results)\n",
    "counts.mean()"
   ]
  },
  {
   "cell_type": "markdown",
   "id": "9add740f",
   "metadata": {},
   "source": [
    "_**Answer: Approaches 2**_"
   ]
  },
  {
   "cell_type": "markdown",
   "id": "8a988dff",
   "metadata": {},
   "source": [
    "Once again, I’m painting an infinitely long strip of canvas, broken up into adjacent 1 cm-by-1 cm squares. Squares are randomly and independently numbered 0 or 1 as before. But this time, the strip itself is 2 cm wide.\n",
    "\n",
    "Squares are considered adjacent if they share a common edge. So squares can be horizontally or vertically adjacent, but not diagonally adjacent.\n",
    "\n",
    "Once I’m done painting, there will again be many “clusters” of contiguous red and blue squares. The example below contains 20 total squares and nine clusters, which means the average size of a cluster here is approximately 2.22 squares.`"
   ]
  },
  {
   "cell_type": "code",
   "execution_count": 68,
   "id": "1d19116d",
   "metadata": {},
   "outputs": [
    {
     "name": "stderr",
     "output_type": "stream",
     "text": [
      "/var/folders/qt/mlh8dy3x0z5bkrlkxs9pkkyc0000gn/T/ipykernel_50005/538481879.py:15: FutureWarning: The default value of numeric_only in DataFrameGroupBy.sum is deprecated. In a future version, numeric_only will default to False. Either specify numeric_only or select only columns which should be valid for the function.\n",
      "  strip_1.groupby(['colors', 'groups']).sum()['count'].mean()\n"
     ]
    },
    {
     "data": {
      "text/plain": [
       "3.00250100040016"
      ]
     },
     "execution_count": 68,
     "metadata": {},
     "output_type": "execute_result"
    }
   ],
   "source": [
    "# simulate two strips\n",
    "strip_1 = run_sim(100000)\n",
    "strip_2 = run_sim(100000)\n",
    "\n",
    "# assign like groups for 1:\n",
    "strip_1['groups'] = (strip_1['colors'] != strip_1['colors'].shift()).cumsum()\n",
    "\n",
    "# add in the colors from 2:\n",
    "strip_1['colors_2'] = strip_2['colors']\n",
    "\n",
    "# assign counts:\n",
    "strip_1['count'] = strip_1.apply(lambda x: 2 if x['colors'] == x['colors_2'] else 1, 1)\n",
    "\n",
    "# groupby colors and groups then sum counts and take mean:\n",
    "strip_1.groupby(['colors', 'groups']).sum()['count'].mean()"
   ]
  },
  {
   "cell_type": "markdown",
   "id": "3472fbff",
   "metadata": {},
   "source": [
    "_**Answer: Approaches 3**_"
   ]
  },
  {
   "cell_type": "code",
   "execution_count": null,
   "id": "cd52b325",
   "metadata": {},
   "outputs": [],
   "source": []
  }
 ],
 "metadata": {
  "kernelspec": {
   "display_name": "Python 3 (ipykernel)",
   "language": "python",
   "name": "python3"
  },
  "language_info": {
   "codemirror_mode": {
    "name": "ipython",
    "version": 3
   },
   "file_extension": ".py",
   "mimetype": "text/x-python",
   "name": "python",
   "nbconvert_exporter": "python",
   "pygments_lexer": "ipython3",
   "version": "3.9.13"
  }
 },
 "nbformat": 4,
 "nbformat_minor": 5
}
